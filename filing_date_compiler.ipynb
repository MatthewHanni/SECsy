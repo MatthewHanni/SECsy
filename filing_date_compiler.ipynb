{
 "cells": [
  {
   "cell_type": "code",
   "execution_count": null,
   "id": "initial_id",
   "metadata": {
    "collapsed": true
   },
   "outputs": [],
   "source": [
    "import json\n",
    "import pandas as pd\n",
    "import pytz\n",
    "import datetime\n",
    "import os\n",
    "import configparser"
   ]
  },
  {
   "cell_type": "code",
   "execution_count": null,
   "outputs": [],
   "source": [
    "config_ini = 'config.ini'"
   ],
   "metadata": {
    "collapsed": false
   },
   "id": "f9676ba4b889c9cc"
  },
  {
   "cell_type": "code",
   "execution_count": null,
   "outputs": [],
   "source": [
    "config = configparser.ConfigParser()\n",
    "config.read(config_ini)\n",
    "entity_filing_history_dir = config.get(section='DEFAULT', option='entity_filing_history_dir_path')\n",
    "entity_filing_history_summary_dir = config.get(section='DEFAULT', option='entity_filing_history_summary_dir_path')"
   ],
   "metadata": {
    "collapsed": false
   },
   "id": "1d9a92d29ec819e4"
  },
  {
   "cell_type": "code",
   "execution_count": null,
   "outputs": [],
   "source": [
    "output_path = os.path.join(entity_filing_history_summary_dir,fr'filing_history_summary.csv')"
   ],
   "metadata": {
    "collapsed": false
   },
   "id": "e67e5b3629baf47d"
  },
  {
   "cell_type": "code",
   "execution_count": null,
   "outputs": [],
   "source": [
    "filing_history_path_list = [os.path.join(entity_filing_history_dir,file_name) for file_name in os.listdir(entity_filing_history_dir)]"
   ],
   "metadata": {
    "collapsed": false
   },
   "id": "4cbc84896cf5dced"
  },
  {
   "cell_type": "code",
   "execution_count": null,
   "outputs": [],
   "source": [
    "def utc_to_eastern(utc_str):\n",
    "    utc_dt = datetime.datetime.strptime(utc_str, '%Y-%m-%dT%H:%M:%S.%fZ')\n",
    "    utc_zone = pytz.utc\n",
    "    eastern_zone = pytz.timezone('America/New_York')\n",
    "    utc_dt_aware = utc_zone.localize(utc_dt)\n",
    "    eastern_dt_aware = utc_dt_aware.astimezone(eastern_zone)\n",
    "    naive_eastern_dt = eastern_dt_aware.replace(tzinfo=None)\n",
    "    return naive_eastern_dt\n"
   ],
   "metadata": {
    "collapsed": false
   },
   "id": "cc9cff80f48b4de1"
  },
  {
   "cell_type": "code",
   "execution_count": null,
   "outputs": [],
   "source": [
    "all_summary_list = []"
   ],
   "metadata": {
    "collapsed": false
   },
   "id": "ab1d1fa53bb7072e"
  },
  {
   "cell_type": "code",
   "execution_count": null,
   "outputs": [],
   "source": [
    "for file_path in filing_history_path_list:\n",
    "    with open(file_path) as json_file:\n",
    "        data = json.load(json_file)\n",
    "    \n",
    "    if 'cik' not in data:\n",
    "        continue\n",
    "\n",
    "    cik = str(data['cik']).zfill(10)\n",
    "    filing_date_list = data['filings']['recent']['filingDate']\n",
    "    report_date_list = data['filings']['recent']['reportDate']\n",
    "    acceptance_date_list = [utc_to_eastern(acceptance_datetime) for acceptance_datetime in data['filings']['recent']['acceptanceDateTime']]\n",
    "    \n",
    "    form_list = data['filings']['recent']['form']\n",
    "    filings = [{'filingDate': item1, 'reportDate': item2, 'acceptanceDateTime': item3, 'form': item4,'cik':cik} for\n",
    "               item1, item2, item3, item4 in zip(filing_date_list, report_date_list, acceptance_date_list, form_list)]\n",
    "    all_summary_list.extend(filings)\n"
   ],
   "metadata": {
    "collapsed": false
   },
   "id": "2c7cb915720a0d0a"
  },
  {
   "cell_type": "code",
   "execution_count": null,
   "outputs": [],
   "source": [
    "df = pd.DataFrame(all_summary_list)"
   ],
   "metadata": {
    "collapsed": false
   },
   "id": "29642a15b5243868"
  },
  {
   "cell_type": "code",
   "execution_count": null,
   "outputs": [],
   "source": [
    "df.to_csv(output_path,index=False)\n",
    "df.to_csv(output_path.replace('.csv',f'--{datetime.datetime.now().strftime(\"%Y%m%d-%H%M%S\")}.csv'),index=False)"
   ],
   "metadata": {
    "collapsed": false
   },
   "id": "30165fb771f3131c"
  }
 ],
 "metadata": {
  "kernelspec": {
   "display_name": "Python 3",
   "language": "python",
   "name": "python3"
  },
  "language_info": {
   "codemirror_mode": {
    "name": "ipython",
    "version": 2
   },
   "file_extension": ".py",
   "mimetype": "text/x-python",
   "name": "python",
   "nbconvert_exporter": "python",
   "pygments_lexer": "ipython2",
   "version": "2.7.6"
  }
 },
 "nbformat": 4,
 "nbformat_minor": 5
}
